{
 "cells": [
  {
   "cell_type": "code",
   "execution_count": 1,
   "metadata": {},
   "outputs": [],
   "source": [
    "import nlp_feature\n",
    "import sys\n",
    "sys.path.append(\"..\")\n",
    "import nea.asap_reader as dataset \n",
    "from nea.asap_reader import read_org_dataset , read_org"
   ]
  },
  {
   "cell_type": "code",
   "execution_count": 2,
   "metadata": {},
   "outputs": [],
   "source": [
    "#nlp_feature.avg_sentence_length()\n",
    "#nlp_feature.punct_feature()\n",
    "#nlp_feature.avg_word_length()\n",
    "#nlp_feature.count_connectives()\n",
    "#nlp_feature.char_count()\n",
    "#nlp_feature.lexicon_count()\n",
    "#nlp_feature.flesch_reading_ease()\n",
    "#nlp_feature.smog_index()\n",
    "#nlp_feature.automated_readability_index()"
   ]
  },
  {
   "cell_type": "code",
   "execution_count": 2,
   "metadata": {},
   "outputs": [],
   "source": [
    "dev_path = '../../data/fold_1/dev.tsv'\n",
    "prompt_id = int(1)\n",
    "dev_token = read_org_dataset(dev_path , prompt_id ,tokenize_text=True, to_lower=True )"
   ]
  }
 ],
 "metadata": {
  "kernelspec": {
   "display_name": "elmoblistm",
   "language": "python",
   "name": "elmoblistm"
  },
  "language_info": {
   "codemirror_mode": {
    "name": "ipython",
    "version": 3
   },
   "file_extension": ".py",
   "mimetype": "text/x-python",
   "name": "python",
   "nbconvert_exporter": "python",
   "pygments_lexer": "ipython3",
   "version": "3.6.7"
  }
 },
 "nbformat": 4,
 "nbformat_minor": 2
}
